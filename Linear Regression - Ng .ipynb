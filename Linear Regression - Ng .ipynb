{
 "cells": [
  {
   "cell_type": "markdown",
   "metadata": {},
   "source": [
    "## Introduction to Linear Regression\n",
    "\n",
    "In this tutorial, we'll discuss one of the foundational algorithms in machine learning: *Linear regression*. We'll create a model that predicts crop yields for apples and oranges (*target variables*) by looking at the average temperature, rainfall, and humidity (*input variables or features*) in a region. Here's the training data:\n",
    "\n",
    "![linear-regression-training-data](https://i.imgur.com/6Ujttb4.png)\n",
    "\n",
    "In a linear regression model, each target variable is estimated to be a weighted sum of the input variables, offset by some constant, known as a bias :\n",
    "\n",
    "```\n",
    "yield_apple  = w11 * temp + w12 * rainfall + w13 * humidity + b1\n",
    "yield_orange = w21 * temp + w22 * rainfall + w23 * humidity + b2\n",
    "```\n",
    "\n",
    "Visually, it means that the yield of apples is a linear or planar function of temperature, rainfall and humidity:\n",
    "\n",
    "![linear-regression-graph](https://i.imgur.com/4DJ9f8X.png)"
   ]
  },
  {
   "cell_type": "markdown",
   "metadata": {},
   "source": [
    "The *learning* part of linear regression is to figure out a set of weights `w11, w12,... w23, b1 & b2` using the training data, to make accurate predictions for new data. The _learned_ weights will be used to predict the yields for apples and oranges in a new region using the average temperature, rainfall, and humidity for that region. \n",
    "\n",
    "We'll _train_ our model by adjusting the weights slightly many times to make better predictions, using an optimization technique called *gradient descent*. Let's begin by importing Numpy and PyTorch."
   ]
  },
  {
   "cell_type": "code",
   "execution_count": 1,
   "metadata": {},
   "outputs": [],
   "source": [
    "import torch\n",
    "import numpy as np\n",
    "import pandas as pd"
   ]
  },
  {
   "cell_type": "code",
   "execution_count": 2,
   "metadata": {},
   "outputs": [],
   "source": [
    "import os\n",
    "os.chdir(\"D:\\CAIR, DRDO Internship 2021\\Andrew Ng Machine Learning\\machine-learning-ex1\\ex1\")"
   ]
  },
  {
   "cell_type": "code",
   "execution_count": 3,
   "metadata": {
    "scrolled": true
   },
   "outputs": [
    {
     "data": {
      "text/html": [
       "<div>\n",
       "<style scoped>\n",
       "    .dataframe tbody tr th:only-of-type {\n",
       "        vertical-align: middle;\n",
       "    }\n",
       "\n",
       "    .dataframe tbody tr th {\n",
       "        vertical-align: top;\n",
       "    }\n",
       "\n",
       "    .dataframe thead th {\n",
       "        text-align: right;\n",
       "    }\n",
       "</style>\n",
       "<table border=\"1\" class=\"dataframe\">\n",
       "  <thead>\n",
       "    <tr style=\"text-align: right;\">\n",
       "      <th></th>\n",
       "      <th>0</th>\n",
       "      <th>1</th>\n",
       "    </tr>\n",
       "  </thead>\n",
       "  <tbody>\n",
       "    <tr>\n",
       "      <td>0</td>\n",
       "      <td>6.1101</td>\n",
       "      <td>17.592</td>\n",
       "    </tr>\n",
       "    <tr>\n",
       "      <td>1</td>\n",
       "      <td>5.5277</td>\n",
       "      <td>9.1302</td>\n",
       "    </tr>\n",
       "    <tr>\n",
       "      <td>2</td>\n",
       "      <td>8.5186</td>\n",
       "      <td>13.662</td>\n",
       "    </tr>\n",
       "    <tr>\n",
       "      <td>3</td>\n",
       "      <td>7.0032</td>\n",
       "      <td>11.854</td>\n",
       "    </tr>\n",
       "    <tr>\n",
       "      <td>4</td>\n",
       "      <td>5.8598</td>\n",
       "      <td>6.8233</td>\n",
       "    </tr>\n",
       "  </tbody>\n",
       "</table>\n",
       "</div>"
      ],
      "text/plain": [
       "        0       1\n",
       "0  6.1101  17.592\n",
       "1  5.5277  9.1302\n",
       "2  8.5186  13.662\n",
       "3  7.0032  11.854\n",
       "4  5.8598  6.8233"
      ]
     },
     "execution_count": 3,
     "metadata": {},
     "output_type": "execute_result"
    }
   ],
   "source": [
    "#Load data \n",
    "\n",
    "data = open(\"ex1data1.txt\",\"r\")\n",
    "d = [n.split(\",\") for n in data]\n",
    "\n",
    "data_df = pd.DataFrame(d)\n",
    "df = data_df.replace(\"\\n\",\"\",regex = True)\n",
    "df.head()"
   ]
  },
  {
   "cell_type": "code",
   "execution_count": 4,
   "metadata": {
    "scrolled": true
   },
   "outputs": [
    {
     "data": {
      "text/plain": [
       "0    6.1101\n",
       "1    5.5277\n",
       "2    8.5186\n",
       "3    7.0032\n",
       "4    5.8598\n",
       "Name: 0, dtype: object"
      ]
     },
     "execution_count": 4,
     "metadata": {},
     "output_type": "execute_result"
    }
   ],
   "source": [
    "#Input Data\n",
    "\n",
    "inputs = df.loc[:,0]\n",
    "inputs.head()"
   ]
  },
  {
   "cell_type": "code",
   "execution_count": 5,
   "metadata": {},
   "outputs": [],
   "source": [
    "#Converting dataframe to numpy array\n",
    "\n",
    "input_arr1 = inputs.to_numpy()\n",
    "input_arr = input_arr1.astype(np.float)"
   ]
  },
  {
   "cell_type": "code",
   "execution_count": 6,
   "metadata": {
    "scrolled": true
   },
   "outputs": [
    {
     "data": {
      "text/plain": [
       "0    17.592\n",
       "1    9.1302\n",
       "2    13.662\n",
       "3    11.854\n",
       "4    6.8233\n",
       "Name: 1, dtype: object"
      ]
     },
     "execution_count": 6,
     "metadata": {},
     "output_type": "execute_result"
    }
   ],
   "source": [
    "#Targets\n",
    "\n",
    "targets = df.loc[:,1]\n",
    "targets.head()"
   ]
  },
  {
   "cell_type": "code",
   "execution_count": 7,
   "metadata": {},
   "outputs": [],
   "source": [
    "#Converting dataframe to numpy array\n",
    "\n",
    "target_arr1 = targets.to_numpy()\n",
    "target_arr = target_arr1.astype(np.float)"
   ]
  },
  {
   "cell_type": "markdown",
   "metadata": {},
   "source": [
    "We've separated the input and target variables because we'll operate on them separately. Also, we've created numpy arrays, because this is typically how you would work with training data: read some CSV files as numpy arrays, do some processing, and then convert them to PyTorch tensors.\n",
    "\n",
    "Let's convert the arrays to PyTorch tensors."
   ]
  },
  {
   "cell_type": "code",
   "execution_count": 8,
   "metadata": {},
   "outputs": [
    {
     "data": {
      "text/plain": [
       "torch.Size([97])"
      ]
     },
     "execution_count": 8,
     "metadata": {},
     "output_type": "execute_result"
    }
   ],
   "source": [
    "# Convert inputs and targets to tensors\n",
    "\n",
    "inputs_tensor = torch.from_numpy(input_arr)\n",
    "target_tensor = torch.from_numpy(target_arr)\n",
    "inputs_tensor.shape\n",
    "#print(inputs_tensor)\n",
    "#print(target_tensor)"
   ]
  },
  {
   "cell_type": "code",
   "execution_count": 9,
   "metadata": {},
   "outputs": [
    {
     "data": {
      "text/plain": [
       "Text(0, 0.5, 'Profit in $10,000s')"
      ]
     },
     "execution_count": 9,
     "metadata": {},
     "output_type": "execute_result"
    }
   ],
   "source": [
    "import matplotlib.pyplot as plt\n",
    "\n",
    "plt.plot(inputs_tensor, target_tensor,\".\")\n",
    "plt.xlabel(\"Population of City in 10,000s\")\n",
    "plt.ylabel(\"Profit in $10,000s\")"
   ]
  },
  {
   "cell_type": "markdown",
   "metadata": {},
   "source": [
    "## Linear regression model from scratch\n",
    "\n",
    "The weights and biases (`w11, w12,... w23, b1 & b2`) can also be represented as matrices, initialized as random values. The first row of `w` and the first element of `b` are used to predict the first target variable, i.e., yield of apples, and similarly, the second for oranges."
   ]
  },
  {
   "cell_type": "code",
   "execution_count": 10,
   "metadata": {},
   "outputs": [
    {
     "name": "stdout",
     "output_type": "stream",
     "text": [
      "tensor([[-0.4477,  0.2369,  0.8880, -0.6696,  1.2064,  2.8565,  1.1719, -0.8014,\n",
      "          1.1286, -0.0455, -0.0478, -2.0641,  0.5735,  0.2469,  0.3314, -1.4978,\n",
      "          0.1663,  0.0702,  0.7890, -1.4708, -1.1601,  1.3935,  0.8092,  0.5814,\n",
      "          0.8074,  0.5682,  0.0778,  0.0995, -0.2982,  1.1042, -0.5931,  0.4432,\n",
      "         -1.1230,  0.2500,  0.5983,  0.4197, -1.3638, -0.0213,  0.3727, -1.1828,\n",
      "          1.1756,  0.0996, -0.5443,  0.2518, -0.0046, -0.2861, -2.1497,  0.9983,\n",
      "         -0.0464,  0.6934, -0.3807,  0.9900, -0.9996,  1.4707,  1.4489, -0.3441,\n",
      "          0.3610,  0.5304,  0.9306,  2.6264, -3.3373, -0.4624, -0.8587, -0.6527,\n",
      "         -0.7350,  0.4743, -1.3963,  0.4141, -0.2004,  0.2807,  0.5454, -0.4717,\n",
      "         -0.1470, -3.1968, -1.0490, -0.8867, -1.8133,  0.9407, -0.5100, -1.2234,\n",
      "         -1.9143, -0.3672, -1.1506,  0.3424, -2.7108,  0.7486, -0.3076, -0.2460,\n",
      "         -1.4921, -0.2684, -1.3765,  0.7667, -0.3086, -0.3279,  2.0052,  0.9371,\n",
      "          2.0364]], requires_grad=True)\n",
      "tensor([[ 0.7125,  0.9051,  2.3494, -0.1473,  2.1710,  0.3621,  0.0912, -1.2617,\n",
      "         -1.4541, -1.1082,  0.7966, -0.2254,  1.5675, -1.5065,  0.6627, -0.2694,\n",
      "          0.5025,  1.0541,  0.0428, -0.0243, -0.9703, -1.1126,  0.7257, -0.8899,\n",
      "          1.7172,  1.4882,  0.1285,  0.2401, -1.7357,  0.5082, -0.4203, -1.2242,\n",
      "         -0.3631,  0.1010, -0.4819,  2.5310, -2.2634, -1.1595, -0.1163, -0.3989,\n",
      "          1.3819, -0.1624, -0.9285,  0.4258, -0.2371,  1.4306,  0.9153,  1.1475,\n",
      "          1.9542,  0.0558, -0.1832,  0.4233, -0.5983,  1.5017,  0.4613, -0.0339,\n",
      "         -0.1585,  0.1145,  0.6906,  0.4918, -2.0887, -1.2915, -0.3849, -0.1294,\n",
      "          1.7973,  1.1869, -0.1472, -0.2416, -0.5991, -0.5496, -1.7239,  1.5463,\n",
      "         -0.6899,  1.0013, -1.4788,  0.0533,  0.2364, -1.5435,  0.3256,  0.7318,\n",
      "         -0.8074,  1.1251,  1.8193,  1.6873, -0.2276,  0.4375,  0.2729, -1.3525,\n",
      "          0.0111,  0.9701,  0.7650,  0.9308, -0.2919, -1.2839, -0.0563,  0.2839,\n",
      "         -0.4250]], requires_grad=True)\n"
     ]
    }
   ],
   "source": [
    "# Weights and biases\n",
    "\n",
    "w = torch.randn(1,inputs_tensor.shape[0], requires_grad=True)\n",
    "b = torch.randn(1,inputs_tensor.shape[0] , requires_grad=True)\n",
    "print(w)\n",
    "print(b)"
   ]
  },
  {
   "cell_type": "markdown",
   "metadata": {},
   "source": [
    "`torch.randn` creates a tensor with the given shape, with elements picked randomly from a [normal distribution](https://en.wikipedia.org/wiki/Normal_distribution) with mean 0 and standard deviation 1.\n",
    "\n",
    "Our *model* is simply a function that performs a matrix multiplication of the `inputs` and the weights `w` (transposed) and adds the bias `b` (replicated for each observation).\n",
    "\n",
    "![matrix-mult](https://i.imgur.com/WGXLFvA.png)\n",
    "\n",
    "We can define the model as follows:"
   ]
  },
  {
   "cell_type": "code",
   "execution_count": 11,
   "metadata": {},
   "outputs": [],
   "source": [
    "def model(x):\n",
    "    return x @ w.t() + b"
   ]
  },
  {
   "cell_type": "markdown",
   "metadata": {},
   "source": [
    "`@` represents matrix multiplication in PyTorch, and the `.t` method returns the transpose of a tensor.\n",
    "\n",
    "The matrix obtained by passing the input data into the model is a set of predictions for the target variables."
   ]
  },
  {
   "cell_type": "code",
   "execution_count": 12,
   "metadata": {},
   "outputs": [
    {
     "name": "stdout",
     "output_type": "stream",
     "text": [
      "tensor([[-23.4282, -23.2356, -21.7913, -24.2880, -21.9697, -23.7786, -24.0495,\n",
      "         -25.4024, -25.5948, -25.2489, -23.3441, -24.3661, -22.5732, -25.6472,\n",
      "         -23.4781, -24.4101, -23.6382, -23.0866, -24.0979, -24.1650, -25.1110,\n",
      "         -25.2533, -23.4150, -25.0306, -22.4235, -22.6525, -24.0122, -23.9006,\n",
      "         -25.8764, -23.6325, -24.5610, -25.3649, -24.5038, -24.0397, -24.6226,\n",
      "         -21.6098, -26.4041, -25.3002, -24.2571, -24.5396, -22.7588, -24.3031,\n",
      "         -25.0692, -23.7149, -24.3778, -22.7101, -23.2254, -22.9932, -22.1865,\n",
      "         -24.0849, -24.3239, -23.7174, -24.7390, -22.6390, -23.6795, -24.1746,\n",
      "         -24.2992, -24.0262, -23.4501, -23.6489, -26.2294, -25.4322, -24.5256,\n",
      "         -24.2701, -22.3434, -22.9538, -24.2879, -24.3823, -24.7398, -24.6903,\n",
      "         -25.8646, -22.5944, -24.8306, -23.1394, -25.6195, -24.0874, -23.9043,\n",
      "         -25.6842, -23.8151, -23.4089, -24.9481, -23.0157, -22.3214, -22.4534,\n",
      "         -24.3684, -23.7032, -23.8678, -25.4932, -24.1296, -23.1706, -23.3757,\n",
      "         -23.2099, -24.4326, -25.4246, -24.1970, -23.8568, -24.5658]],\n",
      "       grad_fn=<AddBackward0>)\n"
     ]
    }
   ],
   "source": [
    "# Generate predictions\n",
    "\n",
    "preds = model(inputs_tensor.float())\n",
    "print(preds)"
   ]
  },
  {
   "cell_type": "markdown",
   "metadata": {},
   "source": [
    "Let's compare the predictions of our model with the actual targets."
   ]
  },
  {
   "cell_type": "code",
   "execution_count": 13,
   "metadata": {},
   "outputs": [
    {
     "name": "stdout",
     "output_type": "stream",
     "text": [
      "tensor([17.5920,  9.1302, 13.6620, 11.8540,  6.8233, 11.8860,  4.3483, 12.0000,\n",
      "         6.5987,  3.8166,  3.2522, 15.5050,  3.1551,  7.2258,  0.7162,  3.5129,\n",
      "         5.3048,  0.5608,  3.6518,  5.3893,  3.1386, 21.7670,  4.2630,  5.1875,\n",
      "         3.0825, 22.6380, 13.5010,  7.0467, 14.6920, 24.1470, -1.2200,  5.9966,\n",
      "        12.1340,  1.8495,  6.5426,  4.5623,  4.1164,  3.3928, 10.1170,  5.4974,\n",
      "         0.5566,  3.9115,  5.3854,  2.4406,  6.7318,  1.0463,  5.1337,  1.8440,\n",
      "         8.0043,  1.0179,  6.7504,  1.8396,  4.2885,  4.9981,  1.4233, -1.4211,\n",
      "         2.4756,  4.6042,  3.9624,  5.4141,  5.1694, -0.7428, 17.9290, 12.0540,\n",
      "        17.0540,  4.8852,  5.7442,  7.7754,  1.0173, 20.9920,  6.6799,  4.0259,\n",
      "         1.2784,  3.3411, -2.6807,  0.2968,  3.8845,  5.7014,  6.7526,  2.0576,\n",
      "         0.4795,  0.2042,  0.6786,  7.5435,  5.3436,  4.2415,  6.7981,  0.9270,\n",
      "         0.1520,  2.8214,  1.8451,  4.2959,  7.2029,  1.9869,  0.1445,  9.0551,\n",
      "         0.6170], dtype=torch.float64)\n"
     ]
    }
   ],
   "source": [
    "# Compare with targets\n",
    "print(target_tensor)"
   ]
  },
  {
   "cell_type": "markdown",
   "metadata": {},
   "source": [
    "You can see a big difference between our model's predictions and the actual targets because we've initialized our model with random weights and biases. Obviously, we can't expect a randomly initialized model to *just work*."
   ]
  },
  {
   "cell_type": "markdown",
   "metadata": {},
   "source": [
    "## Loss function\n",
    "\n",
    "Before we improve our model, we need a way to evaluate how well our model is performing. We can compare the model's predictions with the actual targets using the following method:\n",
    "\n",
    "* Calculate the difference between the two matrices (`preds` and `targets`).\n",
    "* Square all elements of the difference matrix to remove negative values.\n",
    "* Calculate the average of the elements in the resulting matrix.\n",
    "\n",
    "The result is a single number, known as the **mean squared error** (MSE)."
   ]
  },
  {
   "cell_type": "code",
   "execution_count": 14,
   "metadata": {},
   "outputs": [],
   "source": [
    "# MSE loss\n",
    "\n",
    "def mse(t1, t2):\n",
    "    diff = t1 - t2\n",
    "    return torch.sum(diff * diff) / diff.numel()"
   ]
  },
  {
   "cell_type": "markdown",
   "metadata": {},
   "source": [
    "`torch.sum` returns the sum of all the elements in a tensor. The `.numel` method of a tensor returns the number of elements in a tensor. Let's compute the mean squared error for the current predictions of our model."
   ]
  },
  {
   "cell_type": "code",
   "execution_count": 15,
   "metadata": {},
   "outputs": [
    {
     "name": "stdout",
     "output_type": "stream",
     "text": [
      "tensor(923.4683, dtype=torch.float64, grad_fn=<DivBackward0>)\n"
     ]
    }
   ],
   "source": [
    "# Compute loss\n",
    "\n",
    "loss = mse(preds, target_tensor)\n",
    "print(loss)"
   ]
  },
  {
   "cell_type": "markdown",
   "metadata": {},
   "source": [
    "Here’s how we can interpret the result: *On average, each element in the prediction differs from the actual target by the square root of the loss*. And that’s pretty bad, considering the numbers we are trying to predict are themselves in the range 50–200. The result is called the *loss* because it indicates how bad the model is at predicting the target variables. It represents information loss in the model: the lower the loss, the better the model."
   ]
  },
  {
   "cell_type": "markdown",
   "metadata": {},
   "source": [
    "## Compute gradients\n",
    "\n",
    "With PyTorch, we can automatically compute the gradient or derivative of the loss w.r.t. to the weights and biases because they have `requires_grad` set to `True`. We'll see how this is useful in just a moment."
   ]
  },
  {
   "cell_type": "code",
   "execution_count": 16,
   "metadata": {},
   "outputs": [],
   "source": [
    "# Compute gradients\n",
    "loss.backward()"
   ]
  },
  {
   "cell_type": "markdown",
   "metadata": {},
   "source": [
    "The gradients are stored in the `.grad` property of the respective tensors. Note that the derivative of the loss w.r.t. the weights matrix is itself a matrix with the same dimensions."
   ]
  },
  {
   "cell_type": "code",
   "execution_count": 17,
   "metadata": {},
   "outputs": [
    {
     "name": "stdout",
     "output_type": "stream",
     "text": [
      "tensor([[-0.4477,  0.2369,  0.8880, -0.6696,  1.2064,  2.8565,  1.1719, -0.8014,\n",
      "          1.1286, -0.0455, -0.0478, -2.0641,  0.5735,  0.2469,  0.3314, -1.4978,\n",
      "          0.1663,  0.0702,  0.7890, -1.4708, -1.1601,  1.3935,  0.8092,  0.5814,\n",
      "          0.8074,  0.5682,  0.0778,  0.0995, -0.2982,  1.1042, -0.5931,  0.4432,\n",
      "         -1.1230,  0.2500,  0.5983,  0.4197, -1.3638, -0.0213,  0.3727, -1.1828,\n",
      "          1.1756,  0.0996, -0.5443,  0.2518, -0.0046, -0.2861, -2.1497,  0.9983,\n",
      "         -0.0464,  0.6934, -0.3807,  0.9900, -0.9996,  1.4707,  1.4489, -0.3441,\n",
      "          0.3610,  0.5304,  0.9306,  2.6264, -3.3373, -0.4624, -0.8587, -0.6527,\n",
      "         -0.7350,  0.4743, -1.3963,  0.4141, -0.2004,  0.2807,  0.5454, -0.4717,\n",
      "         -0.1470, -3.1968, -1.0490, -0.8867, -1.8133,  0.9407, -0.5100, -1.2234,\n",
      "         -1.9143, -0.3672, -1.1506,  0.3424, -2.7108,  0.7486, -0.3076, -0.2460,\n",
      "         -1.4921, -0.2684, -1.3765,  0.7667, -0.3086, -0.3279,  2.0052,  0.9371,\n",
      "          2.0364]], requires_grad=True)\n",
      "tensor([[ -365.0890,  -330.2896,  -509.0011,  -418.4533,  -350.1332,  -500.8928,\n",
      "          -446.7278,  -512.5563,  -387.5616,  -302.0211,  -341.2242,  -846.3234,\n",
      "          -342.6164,  -502.4164,  -337.0416,  -321.4284,  -380.3436,  -306.5323,\n",
      "          -384.1797,  -422.4925,  -369.8094, -1211.1676,  -328.0430,  -377.9954,\n",
      "          -332.5124, -1131.9965,  -766.4952,  -654.6996,  -787.2888, -1326.6676,\n",
      "          -313.8400,  -393.7280,  -552.5959,  -352.0452,  -490.6274,  -474.0344,\n",
      "          -483.7440,  -334.9861,  -766.9732,  -379.6266,  -323.0716,  -411.2413,\n",
      "          -699.5732,  -344.9886,  -467.5393,  -423.8250,  -302.9532,  -346.6437,\n",
      "          -699.0952,  -331.1202,  -450.5400,  -317.1443,  -443.5909,  -454.2983,\n",
      "          -378.3958,  -379.9553,  -374.8943,  -336.9818,  -556.3005,  -564.8690,\n",
      "          -527.3329,  -309.4721, -1271.4570,  -890.7787, -1132.8330,  -431.2999,\n",
      "          -495.6466,  -611.6187,  -328.5987, -1215.4099,  -605.6435,  -438.2491,\n",
      "          -358.8808,  -431.7600,  -300.3659,  -391.2484,  -450.4444,  -300.9396,\n",
      "          -613.8893,  -305.1939,  -342.3296,  -310.0158,  -379.7641,  -583.6967,\n",
      "          -389.3363,  -508.9174,  -548.5328,  -358.6299,  -329.8535,  -302.3079,\n",
      "          -341.0449,  -456.3000,  -350.7845,  -317.0068,  -495.5450,  -800.3146,\n",
      "          -324.8642]])\n"
     ]
    }
   ],
   "source": [
    "# Gradients for weights\n",
    "\n",
    "print(w)\n",
    "print(w.grad)"
   ]
  },
  {
   "cell_type": "markdown",
   "metadata": {},
   "source": [
    "## Adjust weights and biases to reduce the loss\n",
    "\n",
    "The loss is a [quadratic function](https://en.wikipedia.org/wiki/Quadratic_function) of our weights and biases, and our objective is to find the set of weights where the loss is the lowest. If we plot a graph of the loss w.r.t any individual weight or bias element, it will look like the figure shown below. An important insight from calculus is that the gradient indicates the rate of change of the loss, i.e., the loss function's [slope](https://en.wikipedia.org/wiki/Slope) w.r.t. the weights and biases.\n",
    "\n",
    "If a gradient element is **positive**:\n",
    "\n",
    "* **increasing** the weight element's value slightly will **increase** the loss\n",
    "* **decreasing** the weight element's value slightly will **decrease** the loss\n",
    "\n",
    "![postive-gradient](https://i.imgur.com/WLzJ4xP.png)\n",
    "\n",
    "If a gradient element is **negative**:\n",
    "\n",
    "* **increasing** the weight element's value slightly will **decrease** the loss\n",
    "* **decreasing** the weight element's value slightly will **increase** the loss\n",
    "\n",
    "![negative=gradient](https://i.imgur.com/dvG2fxU.png)\n",
    "\n",
    "The increase or decrease in the loss by changing a weight element is proportional to the gradient of the loss w.r.t. that element. This observation forms the basis of _the gradient descent_ optimization algorithm that we'll use to improve our model (by _descending_ along the _gradient_).\n",
    "\n",
    "We can subtract from each weight element a small quantity proportional to the derivative of the loss w.r.t. that element to reduce the loss slightly."
   ]
  },
  {
   "cell_type": "code",
   "execution_count": 18,
   "metadata": {},
   "outputs": [],
   "source": [
    "with torch.no_grad():\n",
    "    w -= w.grad * 1e-5\n",
    "    b -= b.grad * 1e-5"
   ]
  },
  {
   "cell_type": "code",
   "execution_count": 19,
   "metadata": {},
   "outputs": [
    {
     "name": "stdout",
     "output_type": "stream",
     "text": [
      "tensor([[-4.4408e-01,  2.4025e-01,  8.9309e-01, -6.6542e-01,  1.2099e+00,\n",
      "          2.8615e+00,  1.1764e+00, -7.9624e-01,  1.1325e+00, -4.2436e-02,\n",
      "         -4.4422e-02, -2.0557e+00,  5.7694e-01,  2.5196e-01,  3.3480e-01,\n",
      "         -1.4946e+00,  1.7015e-01,  7.3248e-02,  7.9283e-01, -1.4665e+00,\n",
      "         -1.1564e+00,  1.4056e+00,  8.1253e-01,  5.8522e-01,  8.1072e-01,\n",
      "          5.7952e-01,  8.5431e-02,  1.0604e-01, -2.9033e-01,  1.1175e+00,\n",
      "         -5.8993e-01,  4.4718e-01, -1.1174e+00,  2.5348e-01,  6.0321e-01,\n",
      "          4.2440e-01, -1.3589e+00, -1.7981e-02,  3.8037e-01, -1.1790e+00,\n",
      "          1.1788e+00,  1.0371e-01, -5.3734e-01,  2.5529e-01,  1.1607e-04,\n",
      "         -2.8190e-01, -2.1466e+00,  1.0017e+00, -3.9451e-02,  6.9670e-01,\n",
      "         -3.7621e-01,  9.9318e-01, -9.9519e-01,  1.4753e+00,  1.4527e+00,\n",
      "         -3.4025e-01,  3.6474e-01,  5.3378e-01,  9.3612e-01,  2.6321e+00,\n",
      "         -3.3321e+00, -4.5926e-01, -8.4598e-01, -6.4377e-01, -7.2365e-01,\n",
      "          4.7861e-01, -1.3913e+00,  4.2017e-01, -1.9714e-01,  2.9281e-01,\n",
      "          5.5148e-01, -4.6736e-01, -1.4341e-01, -3.1925e+00, -1.0460e+00,\n",
      "         -8.8283e-01, -1.8088e+00,  9.4369e-01, -5.0385e-01, -1.2203e+00,\n",
      "         -1.9109e+00, -3.6407e-01, -1.1468e+00,  3.4821e-01, -2.7069e+00,\n",
      "          7.5365e-01, -3.0215e-01, -2.4243e-01, -1.4889e+00, -2.6543e-01,\n",
      "         -1.3731e+00,  7.7128e-01, -3.0514e-01, -3.2469e-01,  2.0102e+00,\n",
      "          9.4510e-01,  2.0397e+00]], requires_grad=True)\n",
      "tensor([[ 0.7126,  0.9051,  2.3494, -0.1473,  2.1710,  0.3621,  0.0912, -1.2617,\n",
      "         -1.4541, -1.1082,  0.7966, -0.2254,  1.5675, -1.5064,  0.6627, -0.2694,\n",
      "          0.5025,  1.0542,  0.0428, -0.0243, -0.9703, -1.1126,  0.7257, -0.8899,\n",
      "          1.7172,  1.4882,  0.1285,  0.2401, -1.7357,  0.5082, -0.4203, -1.2242,\n",
      "         -0.3631,  0.1010, -0.4819,  2.5310, -2.2634, -1.1595, -0.1163, -0.3989,\n",
      "          1.3819, -0.1624, -0.9285,  0.4258, -0.2371,  1.4306,  0.9153,  1.1475,\n",
      "          1.9542,  0.0558, -0.1832,  0.4233, -0.5983,  1.5017,  0.4613, -0.0339,\n",
      "         -0.1585,  0.1145,  0.6906,  0.4918, -2.0887, -1.2915, -0.3849, -0.1294,\n",
      "          1.7973,  1.1869, -0.1472, -0.2416, -0.5991, -0.5496, -1.7239,  1.5463,\n",
      "         -0.6899,  1.0013, -1.4788,  0.0533,  0.2364, -1.5435,  0.3256,  0.7319,\n",
      "         -0.8074,  1.1251,  1.8193,  1.6874, -0.2276,  0.4375,  0.2729, -1.3525,\n",
      "          0.0111,  0.9701,  0.7650,  0.9308, -0.2919, -1.2839, -0.0563,  0.2839,\n",
      "         -0.4250]], requires_grad=True)\n"
     ]
    }
   ],
   "source": [
    "print(w)\n",
    "print(b)"
   ]
  },
  {
   "cell_type": "code",
   "execution_count": 20,
   "metadata": {},
   "outputs": [
    {
     "name": "stdout",
     "output_type": "stream",
     "text": [
      "tensor(663.8138, dtype=torch.float64, grad_fn=<DivBackward0>)\n"
     ]
    }
   ],
   "source": [
    "#Calculating loss\n",
    "\n",
    "preds = model(inputs_tensor.float())\n",
    "loss = mse(preds, target_tensor)\n",
    "print(loss)"
   ]
  },
  {
   "cell_type": "markdown",
   "metadata": {},
   "source": [
    "We multiply the gradients with a very small number (`10^-5` in this case) to ensure that we don't modify the weights by a very large amount. We want to take a small step in the downhill direction of the gradient, not a giant leap. This number is called the *learning rate* of the algorithm. \n",
    "\n",
    "We use `torch.no_grad` to indicate to PyTorch that we shouldn't track, calculate, or modify gradients while updating the weights and biases."
   ]
  },
  {
   "cell_type": "code",
   "execution_count": 21,
   "metadata": {},
   "outputs": [
    {
     "name": "stdout",
     "output_type": "stream",
     "text": [
      "tensor(663.8138, dtype=torch.float64, grad_fn=<DivBackward0>)\n"
     ]
    }
   ],
   "source": [
    "# Let's verify that the loss is actually lower\n",
    "\n",
    "loss = mse(preds, target_tensor)\n",
    "print(loss)"
   ]
  },
  {
   "cell_type": "markdown",
   "metadata": {},
   "source": [
    "Before we proceed, we reset the gradients to zero by invoking the `.zero_()` method. We need to do this because PyTorch accumulates gradients. Otherwise, the next time we invoke `.backward` on the loss, the new gradient values are added to the existing gradients, which may lead to unexpected results."
   ]
  },
  {
   "cell_type": "code",
   "execution_count": 22,
   "metadata": {},
   "outputs": [
    {
     "name": "stdout",
     "output_type": "stream",
     "text": [
      "tensor([[0., 0., 0., 0., 0., 0., 0., 0., 0., 0., 0., 0., 0., 0., 0., 0., 0., 0., 0., 0., 0., 0., 0., 0.,\n",
      "         0., 0., 0., 0., 0., 0., 0., 0., 0., 0., 0., 0., 0., 0., 0., 0., 0., 0., 0., 0., 0., 0., 0., 0.,\n",
      "         0., 0., 0., 0., 0., 0., 0., 0., 0., 0., 0., 0., 0., 0., 0., 0., 0., 0., 0., 0., 0., 0., 0., 0.,\n",
      "         0., 0., 0., 0., 0., 0., 0., 0., 0., 0., 0., 0., 0., 0., 0., 0., 0., 0., 0., 0., 0., 0., 0., 0.,\n",
      "         0.]])\n",
      "tensor([[0., 0., 0., 0., 0., 0., 0., 0., 0., 0., 0., 0., 0., 0., 0., 0., 0., 0., 0., 0., 0., 0., 0., 0.,\n",
      "         0., 0., 0., 0., 0., 0., 0., 0., 0., 0., 0., 0., 0., 0., 0., 0., 0., 0., 0., 0., 0., 0., 0., 0.,\n",
      "         0., 0., 0., 0., 0., 0., 0., 0., 0., 0., 0., 0., 0., 0., 0., 0., 0., 0., 0., 0., 0., 0., 0., 0.,\n",
      "         0., 0., 0., 0., 0., 0., 0., 0., 0., 0., 0., 0., 0., 0., 0., 0., 0., 0., 0., 0., 0., 0., 0., 0.,\n",
      "         0.]])\n"
     ]
    }
   ],
   "source": [
    "w.grad.zero_()\n",
    "b.grad.zero_()\n",
    "print(w.grad)\n",
    "print(b.grad)"
   ]
  },
  {
   "cell_type": "markdown",
   "metadata": {},
   "source": [
    "## Train the model using gradient descent\n",
    "\n",
    "As seen above, we reduce the loss and improve our model using the gradient descent optimization algorithm. Thus, we can _train_ the model using the following steps:\n",
    "\n",
    "1. Generate predictions\n",
    "\n",
    "2. Calculate the loss\n",
    "\n",
    "3. Compute gradients w.r.t the weights and biases\n",
    "\n",
    "4. Adjust the weights by subtracting a small quantity proportional to the gradient\n",
    "\n",
    "5. Reset the gradients to zero\n",
    "\n",
    "Let's implement the above step by step."
   ]
  },
  {
   "cell_type": "code",
   "execution_count": 23,
   "metadata": {},
   "outputs": [
    {
     "name": "stdout",
     "output_type": "stream",
     "text": [
      "tensor([[-18.7101, -18.5175, -17.0732, -19.5699, -17.2516, -19.0605, -19.3314,\n",
      "         -20.6843, -20.8767, -20.5308, -18.6260, -19.6480, -17.8551, -20.9291,\n",
      "         -18.7599, -19.6920, -18.9201, -18.3685, -19.3798, -19.4469, -20.3929,\n",
      "         -20.5352, -18.6969, -20.3125, -17.7054, -17.9344, -19.2941, -19.1825,\n",
      "         -21.1583, -18.9144, -19.8429, -20.6468, -19.7857, -19.3216, -19.9045,\n",
      "         -16.8917, -21.6860, -20.5821, -19.5389, -19.8215, -18.0407, -19.5850,\n",
      "         -20.3511, -18.9968, -19.6597, -17.9920, -18.5073, -18.2751, -17.4684,\n",
      "         -19.3668, -19.6058, -18.9993, -20.0209, -17.9209, -18.9613, -19.4565,\n",
      "         -19.5811, -19.3081, -18.7320, -18.9308, -21.5113, -20.7141, -19.8075,\n",
      "         -19.5520, -17.6253, -18.2357, -19.5698, -19.6642, -20.0217, -19.9722,\n",
      "         -21.1465, -17.8763, -20.1125, -18.4213, -20.9014, -19.3693, -19.1862,\n",
      "         -20.9661, -19.0970, -18.6908, -20.2300, -18.2976, -17.6033, -17.7353,\n",
      "         -19.6502, -18.9851, -19.1497, -20.7751, -19.4115, -18.4525, -18.6576,\n",
      "         -18.4918, -19.7145, -20.7065, -19.4789, -19.1387, -19.8476]],\n",
      "       grad_fn=<AddBackward0>)\n"
     ]
    }
   ],
   "source": [
    "# Generate predictions\n",
    "\n",
    "preds = model(inputs_tensor.float())\n",
    "print(preds)"
   ]
  },
  {
   "cell_type": "code",
   "execution_count": 24,
   "metadata": {},
   "outputs": [
    {
     "name": "stdout",
     "output_type": "stream",
     "text": [
      "tensor(663.8138, dtype=torch.float64, grad_fn=<DivBackward0>)\n"
     ]
    }
   ],
   "source": [
    "# Calculate the loss\n",
    "\n",
    "loss = mse(preds, target_tensor)\n",
    "print(loss)"
   ]
  },
  {
   "cell_type": "code",
   "execution_count": 25,
   "metadata": {},
   "outputs": [
    {
     "name": "stdout",
     "output_type": "stream",
     "text": [
      "tensor([[ -307.4328,  -278.1291,  -428.6178,  -352.3696,  -294.8389,  -421.7900,\n",
      "          -376.1789,  -431.6115,  -326.3565,  -254.3248,  -287.3368,  -712.6689,\n",
      "          -288.5092,  -423.0730,  -283.8147,  -270.6673,  -320.2784,  -258.1236,\n",
      "          -323.5086,  -355.7710,  -311.4077, -1019.8956,  -276.2372,  -318.3010,\n",
      "          -280.0008,  -953.2275,  -645.4474,  -551.3071,  -662.9572, -1117.1554,\n",
      "          -264.2772,  -331.5491,  -465.3280,  -296.4490,  -413.1457,  -399.1731,\n",
      "          -407.3494,  -282.0839,  -645.8500,  -319.6746,  -272.0510,  -346.2966,\n",
      "          -589.0941,  -290.5067,  -393.7038,  -356.8930,  -255.1097,  -291.9005,\n",
      "          -588.6915,  -278.8285,  -379.3891,  -267.0597,  -373.5374,  -382.5539,\n",
      "          -318.6381,  -319.9514,  -315.6896,  -283.7644,  -468.4475,  -475.6628,\n",
      "          -444.0546,  -260.5992, -1070.6638,  -750.1038,  -953.9319,  -363.1875,\n",
      "          -417.3723,  -515.0297,  -276.7052, -1023.4679,  -509.9981,  -369.0392,\n",
      "          -302.2050,  -363.5749,  -252.9311,  -329.4610,  -379.3086,  -253.4141,\n",
      "          -516.9417,  -256.9966,  -288.2677,  -261.0570,  -319.7903,  -491.5172,\n",
      "          -327.8509,  -428.5474,  -461.9065,  -301.9937,  -277.7618,  -254.5663,\n",
      "          -287.1859,  -384.2395,  -295.3873,  -266.9439,  -417.2867,  -673.9260,\n",
      "          -273.5605]])\n",
      "tensor([[-0.7485, -0.5701, -0.6337, -0.6479, -0.4964, -0.6381, -0.4882, -0.6739,\n",
      "         -0.5665, -0.5020, -0.4511, -0.7248, -0.4332, -0.5805, -0.4016, -0.4785,\n",
      "         -0.4995, -0.3903, -0.4749, -0.5121, -0.4852, -0.8722, -0.4734, -0.5258,\n",
      "         -0.4286, -0.8365, -0.6762, -0.5408, -0.7392, -0.8879, -0.3840, -0.5493,\n",
      "         -0.6581, -0.4365, -0.5453, -0.4423, -0.5320, -0.4943, -0.6115, -0.5220,\n",
      "         -0.3834, -0.4845, -0.5306, -0.4420, -0.5442, -0.3925, -0.4874, -0.4148,\n",
      "         -0.5252, -0.4203, -0.5434, -0.4297, -0.5012, -0.4726, -0.4203, -0.3719,\n",
      "         -0.4548, -0.4930, -0.4679, -0.5020, -0.5501, -0.4118, -0.7781, -0.6517,\n",
      "         -0.7150, -0.4767, -0.5219, -0.5658, -0.4338, -0.8446, -0.5737, -0.4516,\n",
      "         -0.4410, -0.4487, -0.3757, -0.4055, -0.4757, -0.5498, -0.5330, -0.4278,\n",
      "         -0.4270, -0.3815, -0.3769, -0.5212, -0.5153, -0.4789, -0.5350, -0.4475,\n",
      "         -0.4034, -0.4386, -0.4227, -0.4698, -0.5550, -0.4679, -0.4046, -0.5813,\n",
      "         -0.4220]])\n"
     ]
    }
   ],
   "source": [
    "# Compute gradients\n",
    "\n",
    "loss.backward()\n",
    "print(w.grad)\n",
    "print(b.grad)"
   ]
  },
  {
   "cell_type": "markdown",
   "metadata": {},
   "source": [
    "Let's update the weights and biases using the gradients computed above."
   ]
  },
  {
   "cell_type": "code",
   "execution_count": 26,
   "metadata": {},
   "outputs": [],
   "source": [
    "# Adjust weights & reset gradients\n",
    "\n",
    "with torch.no_grad():\n",
    "    w -= w.grad * 1e-5\n",
    "    b -= b.grad * 1e-5\n",
    "    w.grad.zero_()\n",
    "    b.grad.zero_()"
   ]
  },
  {
   "cell_type": "markdown",
   "metadata": {},
   "source": [
    "Let's take a look at the new weights and biases."
   ]
  },
  {
   "cell_type": "code",
   "execution_count": 27,
   "metadata": {},
   "outputs": [
    {
     "name": "stdout",
     "output_type": "stream",
     "text": [
      "tensor([[-0.4410,  0.2430,  0.8974, -0.6619,  1.2128,  2.8657,  1.1801, -0.7919,\n",
      "          1.1358, -0.0399, -0.0415, -2.0485,  0.5798,  0.2562,  0.3376, -1.4919,\n",
      "          0.1734,  0.0758,  0.7961, -1.4630, -1.1533,  1.4158,  0.8153,  0.5884,\n",
      "          0.8135,  0.5891,  0.0919,  0.1116, -0.2837,  1.1286, -0.5873,  0.4505,\n",
      "         -1.1128,  0.2564,  0.6073,  0.4284, -1.3548, -0.0152,  0.3868, -1.1758,\n",
      "          1.1816,  0.1072, -0.5315,  0.2582,  0.0041, -0.2783, -2.1441,  1.0047,\n",
      "         -0.0336,  0.6995, -0.3724,  0.9959, -0.9915,  1.4791,  1.4559, -0.3371,\n",
      "          0.3679,  0.5366,  0.9408,  2.6368, -3.3276, -0.4567, -0.8353, -0.6363,\n",
      "         -0.7141,  0.4822, -1.3871,  0.4253, -0.1944,  0.3030,  0.5566, -0.4637,\n",
      "         -0.1404, -3.1889, -1.0435, -0.8795, -1.8050,  0.9462, -0.4987, -1.2178,\n",
      "         -1.9080, -0.3615, -1.1436,  0.3531, -2.7036,  0.7579, -0.2975, -0.2394,\n",
      "         -1.4861, -0.2629, -1.3703,  0.7751, -0.3022, -0.3220,  2.0143,  0.9518,\n",
      "          2.0424]], requires_grad=True)\n",
      "tensor([[ 0.7126,  0.9051,  2.3494, -0.1473,  2.1710,  0.3621,  0.0912, -1.2617,\n",
      "         -1.4541, -1.1081,  0.7966, -0.2254,  1.5675, -1.5064,  0.6627, -0.2694,\n",
      "          0.5025,  1.0542,  0.0428, -0.0243, -0.9703, -1.1126,  0.7257, -0.8899,\n",
      "          1.7172,  1.4882,  0.1285,  0.2401, -1.7356,  0.5082, -0.4203, -1.2242,\n",
      "         -0.3631,  0.1010, -0.4819,  2.5310, -2.2634, -1.1595, -0.1163, -0.3989,\n",
      "          1.3819, -0.1624, -0.9285,  0.4258, -0.2371,  1.4306,  0.9153,  1.1475,\n",
      "          1.9542,  0.0558, -0.1832,  0.4233, -0.5983,  1.5017,  0.4613, -0.0339,\n",
      "         -0.1585,  0.1145,  0.6906,  0.4919, -2.0887, -1.2915, -0.3849, -0.1294,\n",
      "          1.7973,  1.1870, -0.1472, -0.2416, -0.5991, -0.5496, -1.7239,  1.5463,\n",
      "         -0.6899,  1.0014, -1.4788,  0.0533,  0.2364, -1.5435,  0.3256,  0.7319,\n",
      "         -0.8074,  1.1251,  1.8193,  1.6874, -0.2276,  0.4375,  0.2729, -1.3525,\n",
      "          0.0111,  0.9701,  0.7650,  0.9308, -0.2919, -1.2839, -0.0563,  0.2839,\n",
      "         -0.4250]], requires_grad=True)\n"
     ]
    }
   ],
   "source": [
    "print(w)\n",
    "print(b)"
   ]
  },
  {
   "cell_type": "markdown",
   "metadata": {},
   "source": [
    "With the new weights and biases, the model should have a lower loss."
   ]
  },
  {
   "cell_type": "code",
   "execution_count": 28,
   "metadata": {},
   "outputs": [
    {
     "name": "stdout",
     "output_type": "stream",
     "text": [
      "tensor(479.6952, dtype=torch.float64, grad_fn=<DivBackward0>)\n"
     ]
    }
   ],
   "source": [
    "# Calculate loss\n",
    "\n",
    "preds = model(inputs_tensor.float())\n",
    "loss = mse(preds, target_tensor)\n",
    "print(loss)"
   ]
  },
  {
   "cell_type": "markdown",
   "metadata": {},
   "source": [
    "We have already achieved a significant reduction in the loss merely by adjusting the weights and biases slightly using gradient descent."
   ]
  },
  {
   "cell_type": "markdown",
   "metadata": {},
   "source": [
    "## Train for multiple epochs\n",
    "\n",
    "To reduce the loss further, we can repeat the process of adjusting the weights and biases using the gradients multiple times. Each iteration is called an _epoch_. Let's train the model for 100 epochs."
   ]
  },
  {
   "cell_type": "code",
   "execution_count": 29,
   "metadata": {},
   "outputs": [],
   "source": [
    "# Train for 100 epochs\n",
    "\n",
    "for i in range(100):\n",
    "    preds = model(inputs_tensor.float())\n",
    "    loss = mse(preds, target_tensor)\n",
    "    loss.backward()\n",
    "    with torch.no_grad():\n",
    "        w -= w.grad * 1e-5\n",
    "        b -= b.grad * 1e-5\n",
    "        w.grad.zero_()\n",
    "        b.grad.zero_()"
   ]
  },
  {
   "cell_type": "markdown",
   "metadata": {},
   "source": [
    "Once again, let's verify that the loss is now lower:"
   ]
  },
  {
   "cell_type": "code",
   "execution_count": 30,
   "metadata": {},
   "outputs": [
    {
     "name": "stdout",
     "output_type": "stream",
     "text": [
      "tensor(30.8997, dtype=torch.float64, grad_fn=<DivBackward0>)\n"
     ]
    }
   ],
   "source": [
    "# Calculate loss\n",
    "\n",
    "preds = model(inputs_tensor.float())\n",
    "loss = mse(preds, target_tensor)\n",
    "print(loss)"
   ]
  },
  {
   "cell_type": "markdown",
   "metadata": {},
   "source": [
    "The loss is now much lower than its initial value. Let's look at the model's predictions and compare them with the targets."
   ]
  },
  {
   "cell_type": "code",
   "execution_count": 31,
   "metadata": {},
   "outputs": [
    {
     "data": {
      "text/plain": [
       "tensor([[6.4479, 6.6403, 8.0846, 5.5880, 7.9061, 6.0974, 5.8263, 4.4736, 4.2811,\n",
       "         4.6270, 6.5316, 5.5100, 7.3026, 4.2287, 6.3977, 5.4656, 6.2376, 6.7891,\n",
       "         5.7778, 5.7108, 4.7648, 4.6229, 6.4608, 4.8452, 7.4523, 7.2236, 5.8638,\n",
       "         5.9752, 3.9997, 6.2437, 5.3147, 4.5109, 5.3722, 5.8360, 5.2533, 8.2660,\n",
       "         3.4718, 4.5756, 5.6189, 5.3362, 7.1169, 5.5727, 4.8066, 6.1608, 5.4980,\n",
       "         7.1656, 6.6504, 6.8825, 7.6893, 5.7908, 5.5519, 6.1584, 5.1368, 7.2367,\n",
       "         6.1963, 5.7011, 5.5765, 5.8496, 6.4257, 6.2270, 3.6464, 4.4436, 5.3505,\n",
       "         5.6059, 7.5327, 6.9220, 5.5879, 5.4935, 5.1359, 5.1858, 4.0113, 7.2813,\n",
       "         5.0452, 6.7364, 4.2562, 5.7883, 5.9715, 4.1916, 6.0607, 6.4669, 4.9276,\n",
       "         6.8600, 7.5542, 7.4225, 5.5075, 6.1726, 6.0081, 4.3826, 5.7461, 6.7051,\n",
       "         6.5000, 6.6659, 5.4433, 4.4512, 5.6787, 6.0191, 5.3100]],\n",
       "       grad_fn=<AddBackward0>)"
      ]
     },
     "execution_count": 31,
     "metadata": {},
     "output_type": "execute_result"
    }
   ],
   "source": [
    "# Predictions\n",
    "preds"
   ]
  },
  {
   "cell_type": "code",
   "execution_count": 32,
   "metadata": {},
   "outputs": [
    {
     "data": {
      "text/plain": [
       "0      17.592\n",
       "1      9.1302\n",
       "2      13.662\n",
       "3      11.854\n",
       "4      6.8233\n",
       "       ...   \n",
       "92     7.2029\n",
       "93     1.9869\n",
       "94    0.14454\n",
       "95     9.0551\n",
       "96    0.61705\n",
       "Name: 1, Length: 97, dtype: object"
      ]
     },
     "execution_count": 32,
     "metadata": {},
     "output_type": "execute_result"
    }
   ],
   "source": [
    "# Targets\n",
    "targets"
   ]
  },
  {
   "cell_type": "markdown",
   "metadata": {},
   "source": [
    "The predictions are now quite close to the target variables. We can get even better results by training for a few more epochs. "
   ]
  },
  {
   "cell_type": "markdown",
   "metadata": {},
   "source": [
    "## Linear regression using PyTorch built-ins\n",
    "\n",
    "We've implemented linear regression & gradient descent model using some basic tensor operations. However, since this is a common pattern in deep learning, PyTorch provides several built-in functions and classes to make it easy to create and train models with just a few lines of code.\n",
    "\n",
    "Let's begin by importing the `torch.nn` package from PyTorch, which contains utility classes for building neural networks."
   ]
  },
  {
   "cell_type": "code",
   "execution_count": 33,
   "metadata": {},
   "outputs": [],
   "source": [
    "import torch.nn as nn"
   ]
  },
  {
   "cell_type": "markdown",
   "metadata": {},
   "source": [
    "As before, we represent the inputs and targets and matrices."
   ]
  },
  {
   "cell_type": "code",
   "execution_count": 34,
   "metadata": {},
   "outputs": [],
   "source": [
    "# Input(Population)\n",
    "inputs = torch.from_numpy(input_arr)\n",
    "\n",
    "# Targets(Profit)\n",
    "targets = torch.from_numpy(target_arr)"
   ]
  },
  {
   "cell_type": "code",
   "execution_count": 35,
   "metadata": {},
   "outputs": [
    {
     "name": "stdout",
     "output_type": "stream",
     "text": [
      "tensor([ 6.1101,  5.5277,  8.5186,  7.0032,  5.8598,  8.3829,  7.4764,  8.5781,\n",
      "         6.4862,  5.0546,  5.7107, 14.1640,  5.7340,  8.4084,  5.6407,  5.3794,\n",
      "         6.3654,  5.1301,  6.4296,  7.0708,  6.1891, 20.2700,  5.4901,  6.3261,\n",
      "         5.5649, 18.9450, 12.8280, 10.9570, 13.1760, 22.2030,  5.2524,  6.5894,\n",
      "         9.2482,  5.8918,  8.2111,  7.9334,  8.0959,  5.6063, 12.8360,  6.3534,\n",
      "         5.4069,  6.8825, 11.7080,  5.7737,  7.8247,  7.0931,  5.0702,  5.8014,\n",
      "        11.7000,  5.5416,  7.5402,  5.3077,  7.4239,  7.6031,  6.3328,  6.3589,\n",
      "         6.2742,  5.6397,  9.3102,  9.4536,  8.8254,  5.1793, 21.2790, 14.9080,\n",
      "        18.9590,  7.2182,  8.2951, 10.2360,  5.4994, 20.3410, 10.1360,  7.3345,\n",
      "         6.0062,  7.2259,  5.0269,  6.5479,  7.5386,  5.0365, 10.2740,  5.1077,\n",
      "         5.7292,  5.1884,  6.3557,  9.7687,  6.5159,  8.5172,  9.1802,  6.0020,\n",
      "         5.5204,  5.0594,  5.7077,  7.6366,  5.8707,  5.3054,  8.2934, 13.3940,\n",
      "         5.4369], dtype=torch.float64)\n",
      "tensor([17.5920,  9.1302, 13.6620, 11.8540,  6.8233, 11.8860,  4.3483, 12.0000,\n",
      "         6.5987,  3.8166,  3.2522, 15.5050,  3.1551,  7.2258,  0.7162,  3.5129,\n",
      "         5.3048,  0.5608,  3.6518,  5.3893,  3.1386, 21.7670,  4.2630,  5.1875,\n",
      "         3.0825, 22.6380, 13.5010,  7.0467, 14.6920, 24.1470, -1.2200,  5.9966,\n",
      "        12.1340,  1.8495,  6.5426,  4.5623,  4.1164,  3.3928, 10.1170,  5.4974,\n",
      "         0.5566,  3.9115,  5.3854,  2.4406,  6.7318,  1.0463,  5.1337,  1.8440,\n",
      "         8.0043,  1.0179,  6.7504,  1.8396,  4.2885,  4.9981,  1.4233, -1.4211,\n",
      "         2.4756,  4.6042,  3.9624,  5.4141,  5.1694, -0.7428, 17.9290, 12.0540,\n",
      "        17.0540,  4.8852,  5.7442,  7.7754,  1.0173, 20.9920,  6.6799,  4.0259,\n",
      "         1.2784,  3.3411, -2.6807,  0.2968,  3.8845,  5.7014,  6.7526,  2.0576,\n",
      "         0.4795,  0.2042,  0.6786,  7.5435,  5.3436,  4.2415,  6.7981,  0.9270,\n",
      "         0.1520,  2.8214,  1.8451,  4.2959,  7.2029,  1.9869,  0.1445,  9.0551,\n",
      "         0.6170], dtype=torch.float64)\n"
     ]
    }
   ],
   "source": [
    "print(inputs)\n",
    "print(targets)"
   ]
  },
  {
   "cell_type": "markdown",
   "metadata": {},
   "source": [
    "We are using 15 training examples to illustrate how to work with large datasets in small batches. "
   ]
  },
  {
   "cell_type": "markdown",
   "metadata": {},
   "source": [
    "## Dataset and DataLoader\n",
    "\n",
    "We'll create a `TensorDataset`, which allows access to rows from `inputs` and `targets` as tuples, and provides standard APIs for working with many different types of datasets in PyTorch."
   ]
  },
  {
   "cell_type": "code",
   "execution_count": 36,
   "metadata": {},
   "outputs": [],
   "source": [
    "from torch.utils.data import TensorDataset"
   ]
  },
  {
   "cell_type": "code",
   "execution_count": 37,
   "metadata": {},
   "outputs": [
    {
     "data": {
      "text/plain": [
       "(tensor([6.1101, 5.5277], dtype=torch.float64),\n",
       " tensor([17.5920,  9.1302], dtype=torch.float64))"
      ]
     },
     "execution_count": 37,
     "metadata": {},
     "output_type": "execute_result"
    }
   ],
   "source": [
    "# Define dataset\n",
    "train_ds = TensorDataset(inputs, targets)\n",
    "train_ds[0:2]"
   ]
  },
  {
   "cell_type": "markdown",
   "metadata": {},
   "source": [
    "The `TensorDataset` allows us to access a small section of the training data using the array indexing notation (`[0:3]` in the above code). It returns a tuple with two elements. The first element contains the input variables for the selected rows, and the second contains the targets."
   ]
  },
  {
   "cell_type": "markdown",
   "metadata": {},
   "source": [
    "We'll also create a `DataLoader`, which can split the data into batches of a predefined size while training. It also provides other utilities like shuffling and random sampling of the data."
   ]
  },
  {
   "cell_type": "code",
   "execution_count": 38,
   "metadata": {},
   "outputs": [],
   "source": [
    "from torch.utils.data import DataLoader"
   ]
  },
  {
   "cell_type": "code",
   "execution_count": 39,
   "metadata": {},
   "outputs": [],
   "source": [
    "# Define data loader\n",
    "batch_size = 5\n",
    "train_dl = DataLoader(train_ds, batch_size, shuffle=True)"
   ]
  },
  {
   "cell_type": "markdown",
   "metadata": {},
   "source": [
    "We can use the data loader in a `for` loop. Let's look at an example."
   ]
  },
  {
   "cell_type": "code",
   "execution_count": 40,
   "metadata": {},
   "outputs": [
    {
     "name": "stdout",
     "output_type": "stream",
     "text": [
      "tensor([14.9080,  5.6063, 13.3940,  6.5159,  7.4764], dtype=torch.float64)\n",
      "tensor([12.0540,  3.3928,  9.0551,  5.3436,  4.3483], dtype=torch.float64)\n"
     ]
    }
   ],
   "source": [
    "for xb, yb in train_dl:\n",
    "    print(xb)\n",
    "    print(yb)\n",
    "    break"
   ]
  },
  {
   "cell_type": "markdown",
   "metadata": {},
   "source": [
    "In each iteration, the data loader returns one batch of data with the given batch size. If `shuffle` is set to `True`, it shuffles the training data before creating batches. Shuffling helps randomize the input to the optimization algorithm, leading to a faster reduction in the loss."
   ]
  },
  {
   "cell_type": "markdown",
   "metadata": {},
   "source": [
    "## nn.Linear\n",
    "\n",
    "Instead of initializing the weights & biases manually, we can define the model using the `nn.Linear` class from PyTorch, which does it automatically."
   ]
  },
  {
   "cell_type": "code",
   "execution_count": 43,
   "metadata": {},
   "outputs": [],
   "source": [
    "# Define model\n",
    "model = nn.Linear(97,1)"
   ]
  },
  {
   "cell_type": "markdown",
   "metadata": {},
   "source": [
    "PyTorch models also have a helpful `.parameters` method, which returns a list containing all the weights and bias matrices present in the model. For our linear regression model, we have one weight matrix and one bias matrix."
   ]
  },
  {
   "cell_type": "code",
   "execution_count": 42,
   "metadata": {},
   "outputs": [
    {
     "data": {
      "text/plain": [
       "[Parameter containing:\n",
       " tensor([[-0.0142,  0.0713,  0.0655, -0.0983, -0.0501,  0.0266, -0.0782, -0.0322,\n",
       "           0.0842,  0.0223,  0.0057,  0.0071,  0.0111,  0.0042, -0.0471,  0.0770,\n",
       "           0.0619, -0.0949,  0.0121,  0.0911, -0.0886, -0.0155,  0.0288,  0.0766,\n",
       "          -0.0944,  0.0812,  0.0998, -0.0375,  0.0121,  0.0822,  0.0337,  0.0977,\n",
       "          -0.0980,  0.0195, -0.0020, -0.0932,  0.0711, -0.0602, -0.0718,  0.0329,\n",
       "          -0.0477, -0.0884,  0.0104,  0.0854, -0.0273, -0.0911,  0.0477, -0.0771,\n",
       "          -0.0146, -0.0293, -0.0984, -0.0845, -0.0168,  0.0571,  0.0820, -0.0416,\n",
       "           0.0139,  0.0054, -0.0907, -0.0880,  0.0461, -0.0985, -0.0187,  0.0484,\n",
       "          -0.0987,  0.0812, -0.0921,  0.0675,  0.0150,  0.0680, -0.0627, -0.0399,\n",
       "          -0.0304, -0.0637, -0.0401, -0.0280, -0.0393,  0.0718,  0.0866,  0.0380,\n",
       "           0.0241,  0.0008, -0.0659,  0.0824,  0.0815,  0.0432,  0.0318, -0.0421,\n",
       "           0.0584,  0.0986,  0.0241,  0.0980, -0.0932,  0.0978, -0.1006, -0.0516,\n",
       "           0.0016]], requires_grad=True), Parameter containing:\n",
       " tensor([-0.0593], requires_grad=True)]"
      ]
     },
     "execution_count": 42,
     "metadata": {},
     "output_type": "execute_result"
    }
   ],
   "source": [
    "# Parameters\n",
    "list(model.parameters())"
   ]
  },
  {
   "cell_type": "markdown",
   "metadata": {},
   "source": [
    "We can use the model to generate predictions in the same way as before."
   ]
  },
  {
   "cell_type": "code",
   "execution_count": 44,
   "metadata": {},
   "outputs": [
    {
     "name": "stdout",
     "output_type": "stream",
     "text": [
      "tensor([2.4988], grad_fn=<AddBackward0>)\n"
     ]
    }
   ],
   "source": [
    "# Generate predictions\n",
    "preds = model(inputs.float()) \n",
    "print(preds)"
   ]
  },
  {
   "cell_type": "markdown",
   "metadata": {},
   "source": [
    "## Loss Function\n",
    "\n",
    "Instead of defining a loss function manually, we can use the built-in loss function `mse_loss`."
   ]
  },
  {
   "cell_type": "code",
   "execution_count": 45,
   "metadata": {},
   "outputs": [],
   "source": [
    "# Import nn.functional\n",
    "import torch.nn.functional as F"
   ]
  },
  {
   "cell_type": "markdown",
   "metadata": {},
   "source": [
    "The `nn.functional` package contains many useful loss functions and several other utilities. "
   ]
  },
  {
   "cell_type": "code",
   "execution_count": 46,
   "metadata": {},
   "outputs": [],
   "source": [
    "# Define loss function\n",
    "loss_fn = F.mse_loss"
   ]
  },
  {
   "cell_type": "markdown",
   "metadata": {},
   "source": [
    "Let's compute the loss for the current predictions of our model."
   ]
  },
  {
   "cell_type": "code",
   "execution_count": 48,
   "metadata": {},
   "outputs": [
    {
     "name": "stderr",
     "output_type": "stream",
     "text": [
      "C:\\Users\\sumed\\Anaconda3\\lib\\site-packages\\ipykernel_launcher.py:1: UserWarning: Using a target size (torch.Size([97])) that is different to the input size (torch.Size([1])). This will likely lead to incorrect results due to broadcasting. Please ensure they have the same size.\n",
      "  \"\"\"Entry point for launching an IPython kernel.\n"
     ]
    }
   ],
   "source": [
    "loss = loss_fn(model(inputs.float()), targets)"
   ]
  },
  {
   "cell_type": "markdown",
   "metadata": {},
   "source": [
    "## Optimizer\n",
    "\n",
    "Instead of manually manipulating the model's weights & biases using gradients, we can use the optimizer `optim.SGD`. SGD is short for \"stochastic gradient descent\". The term _stochastic_ indicates that samples are selected in random batches instead of as a single group."
   ]
  },
  {
   "cell_type": "code",
   "execution_count": 49,
   "metadata": {},
   "outputs": [],
   "source": [
    "# Define optimizer\n",
    "opt = torch.optim.SGD(model.parameters(), lr=1e-5)"
   ]
  },
  {
   "cell_type": "markdown",
   "metadata": {},
   "source": [
    "Note that `model.parameters()` is passed as an argument to `optim.SGD` so that the optimizer knows which matrices should be modified during the update step. Also, we can specify a learning rate that controls the amount by which the parameters are modified."
   ]
  },
  {
   "cell_type": "markdown",
   "metadata": {},
   "source": [
    "## Train the model\n",
    "\n",
    "We are now ready to train the model. We'll follow the same process to implement gradient descent:\n",
    "\n",
    "1. Generate predictions\n",
    "\n",
    "2. Calculate the loss\n",
    "\n",
    "3. Compute gradients w.r.t the weights and biases\n",
    "\n",
    "4. Adjust the weights by subtracting a small quantity proportional to the gradient\n",
    "\n",
    "5. Reset the gradients to zero\n",
    "\n",
    "The only change is that we'll work batches of data instead of processing the entire training data in every iteration. Let's define a utility function `fit` that trains the model for a given number of epochs."
   ]
  },
  {
   "cell_type": "code",
   "execution_count": 50,
   "metadata": {},
   "outputs": [],
   "source": [
    "# Utility function to train the model\n",
    "def fit(num_epochs, model, loss_fn, opt, train_dl):\n",
    "    \n",
    "    # Repeat for given number of epochs\n",
    "    for epoch in range(num_epochs):\n",
    "        \n",
    "        # Train with batches of data\n",
    "        for xb,yb in train_dl:\n",
    "            \n",
    "            # 1. Generate predictions\n",
    "            pred = model(xb)\n",
    "            \n",
    "            # 2. Calculate loss\n",
    "            loss = loss_fn(pred, yb)\n",
    "            \n",
    "            # 3. Compute gradients\n",
    "            loss.backward()\n",
    "            \n",
    "            # 4. Update parameters using gradients\n",
    "            opt.step()\n",
    "            \n",
    "            # 5. Reset the gradients to zero\n",
    "            opt.zero_grad()\n",
    "        \n",
    "        # Print the progress\n",
    "        if (epoch+1) % 10 == 0:\n",
    "            print('Epoch [{}/{}], Loss: {:.4f}'.format(epoch+1, num_epochs, loss.item()))"
   ]
  },
  {
   "cell_type": "markdown",
   "metadata": {},
   "source": [
    "Some things to note above:\n",
    "\n",
    "* We use the data loader defined earlier to get batches of data for every iteration.\n",
    "\n",
    "* Instead of updating parameters (weights and biases) manually, we use `opt.step` to perform the update and `opt.zero_grad` to reset the gradients to zero.\n",
    "\n",
    "* We've also added a log statement that prints the loss from the last batch of data for every 10th epoch to track training progress. `loss.item` returns the actual value stored in the loss tensor.\n",
    "\n",
    "Let's train the model for 100 epochs."
   ]
  },
  {
   "cell_type": "code",
   "execution_count": 51,
   "metadata": {},
   "outputs": [
    {
     "ename": "RuntimeError",
     "evalue": "mat1 and mat2 shapes cannot be multiplied (1x5 and 97x1)",
     "output_type": "error",
     "traceback": [
      "\u001b[1;31m---------------------------------------------------------------------------\u001b[0m",
      "\u001b[1;31mRuntimeError\u001b[0m                              Traceback (most recent call last)",
      "\u001b[1;32m<ipython-input-51-8fac7e484769>\u001b[0m in \u001b[0;36m<module>\u001b[1;34m\u001b[0m\n\u001b[1;32m----> 1\u001b[1;33m \u001b[0mfit\u001b[0m\u001b[1;33m(\u001b[0m\u001b[1;36m100\u001b[0m\u001b[1;33m,\u001b[0m \u001b[0mmodel\u001b[0m\u001b[1;33m,\u001b[0m \u001b[0mloss_fn\u001b[0m\u001b[1;33m,\u001b[0m \u001b[0mopt\u001b[0m\u001b[1;33m,\u001b[0m \u001b[0mtrain_dl\u001b[0m\u001b[1;33m)\u001b[0m\u001b[1;33m\u001b[0m\u001b[1;33m\u001b[0m\u001b[0m\n\u001b[0m",
      "\u001b[1;32m<ipython-input-50-28634c17ad42>\u001b[0m in \u001b[0;36mfit\u001b[1;34m(num_epochs, model, loss_fn, opt, train_dl)\u001b[0m\n\u001b[0;32m      9\u001b[0m \u001b[1;33m\u001b[0m\u001b[0m\n\u001b[0;32m     10\u001b[0m             \u001b[1;31m# 1. Generate predictions\u001b[0m\u001b[1;33m\u001b[0m\u001b[1;33m\u001b[0m\u001b[1;33m\u001b[0m\u001b[0m\n\u001b[1;32m---> 11\u001b[1;33m             \u001b[0mpred\u001b[0m \u001b[1;33m=\u001b[0m \u001b[0mmodel\u001b[0m\u001b[1;33m(\u001b[0m\u001b[0mxb\u001b[0m\u001b[1;33m)\u001b[0m\u001b[1;33m\u001b[0m\u001b[1;33m\u001b[0m\u001b[0m\n\u001b[0m\u001b[0;32m     12\u001b[0m \u001b[1;33m\u001b[0m\u001b[0m\n\u001b[0;32m     13\u001b[0m             \u001b[1;31m# 2. Calculate loss\u001b[0m\u001b[1;33m\u001b[0m\u001b[1;33m\u001b[0m\u001b[1;33m\u001b[0m\u001b[0m\n",
      "\u001b[1;32m~\\Anaconda3\\lib\\site-packages\\torch\\nn\\modules\\module.py\u001b[0m in \u001b[0;36m_call_impl\u001b[1;34m(self, *input, **kwargs)\u001b[0m\n\u001b[0;32m    725\u001b[0m             \u001b[0mresult\u001b[0m \u001b[1;33m=\u001b[0m \u001b[0mself\u001b[0m\u001b[1;33m.\u001b[0m\u001b[0m_slow_forward\u001b[0m\u001b[1;33m(\u001b[0m\u001b[1;33m*\u001b[0m\u001b[0minput\u001b[0m\u001b[1;33m,\u001b[0m \u001b[1;33m**\u001b[0m\u001b[0mkwargs\u001b[0m\u001b[1;33m)\u001b[0m\u001b[1;33m\u001b[0m\u001b[1;33m\u001b[0m\u001b[0m\n\u001b[0;32m    726\u001b[0m         \u001b[1;32melse\u001b[0m\u001b[1;33m:\u001b[0m\u001b[1;33m\u001b[0m\u001b[1;33m\u001b[0m\u001b[0m\n\u001b[1;32m--> 727\u001b[1;33m             \u001b[0mresult\u001b[0m \u001b[1;33m=\u001b[0m \u001b[0mself\u001b[0m\u001b[1;33m.\u001b[0m\u001b[0mforward\u001b[0m\u001b[1;33m(\u001b[0m\u001b[1;33m*\u001b[0m\u001b[0minput\u001b[0m\u001b[1;33m,\u001b[0m \u001b[1;33m**\u001b[0m\u001b[0mkwargs\u001b[0m\u001b[1;33m)\u001b[0m\u001b[1;33m\u001b[0m\u001b[1;33m\u001b[0m\u001b[0m\n\u001b[0m\u001b[0;32m    728\u001b[0m         for hook in itertools.chain(\n\u001b[0;32m    729\u001b[0m                 \u001b[0m_global_forward_hooks\u001b[0m\u001b[1;33m.\u001b[0m\u001b[0mvalues\u001b[0m\u001b[1;33m(\u001b[0m\u001b[1;33m)\u001b[0m\u001b[1;33m,\u001b[0m\u001b[1;33m\u001b[0m\u001b[1;33m\u001b[0m\u001b[0m\n",
      "\u001b[1;32m~\\Anaconda3\\lib\\site-packages\\torch\\nn\\modules\\linear.py\u001b[0m in \u001b[0;36mforward\u001b[1;34m(self, input)\u001b[0m\n\u001b[0;32m     91\u001b[0m \u001b[1;33m\u001b[0m\u001b[0m\n\u001b[0;32m     92\u001b[0m     \u001b[1;32mdef\u001b[0m \u001b[0mforward\u001b[0m\u001b[1;33m(\u001b[0m\u001b[0mself\u001b[0m\u001b[1;33m,\u001b[0m \u001b[0minput\u001b[0m\u001b[1;33m:\u001b[0m \u001b[0mTensor\u001b[0m\u001b[1;33m)\u001b[0m \u001b[1;33m->\u001b[0m \u001b[0mTensor\u001b[0m\u001b[1;33m:\u001b[0m\u001b[1;33m\u001b[0m\u001b[1;33m\u001b[0m\u001b[0m\n\u001b[1;32m---> 93\u001b[1;33m         \u001b[1;32mreturn\u001b[0m \u001b[0mF\u001b[0m\u001b[1;33m.\u001b[0m\u001b[0mlinear\u001b[0m\u001b[1;33m(\u001b[0m\u001b[0minput\u001b[0m\u001b[1;33m,\u001b[0m \u001b[0mself\u001b[0m\u001b[1;33m.\u001b[0m\u001b[0mweight\u001b[0m\u001b[1;33m,\u001b[0m \u001b[0mself\u001b[0m\u001b[1;33m.\u001b[0m\u001b[0mbias\u001b[0m\u001b[1;33m)\u001b[0m\u001b[1;33m\u001b[0m\u001b[1;33m\u001b[0m\u001b[0m\n\u001b[0m\u001b[0;32m     94\u001b[0m \u001b[1;33m\u001b[0m\u001b[0m\n\u001b[0;32m     95\u001b[0m     \u001b[1;32mdef\u001b[0m \u001b[0mextra_repr\u001b[0m\u001b[1;33m(\u001b[0m\u001b[0mself\u001b[0m\u001b[1;33m)\u001b[0m \u001b[1;33m->\u001b[0m \u001b[0mstr\u001b[0m\u001b[1;33m:\u001b[0m\u001b[1;33m\u001b[0m\u001b[1;33m\u001b[0m\u001b[0m\n",
      "\u001b[1;32m~\\Anaconda3\\lib\\site-packages\\torch\\nn\\functional.py\u001b[0m in \u001b[0;36mlinear\u001b[1;34m(input, weight, bias)\u001b[0m\n\u001b[0;32m   1690\u001b[0m         \u001b[0mret\u001b[0m \u001b[1;33m=\u001b[0m \u001b[0mtorch\u001b[0m\u001b[1;33m.\u001b[0m\u001b[0maddmm\u001b[0m\u001b[1;33m(\u001b[0m\u001b[0mbias\u001b[0m\u001b[1;33m,\u001b[0m \u001b[0minput\u001b[0m\u001b[1;33m,\u001b[0m \u001b[0mweight\u001b[0m\u001b[1;33m.\u001b[0m\u001b[0mt\u001b[0m\u001b[1;33m(\u001b[0m\u001b[1;33m)\u001b[0m\u001b[1;33m)\u001b[0m\u001b[1;33m\u001b[0m\u001b[1;33m\u001b[0m\u001b[0m\n\u001b[0;32m   1691\u001b[0m     \u001b[1;32melse\u001b[0m\u001b[1;33m:\u001b[0m\u001b[1;33m\u001b[0m\u001b[1;33m\u001b[0m\u001b[0m\n\u001b[1;32m-> 1692\u001b[1;33m         \u001b[0moutput\u001b[0m \u001b[1;33m=\u001b[0m \u001b[0minput\u001b[0m\u001b[1;33m.\u001b[0m\u001b[0mmatmul\u001b[0m\u001b[1;33m(\u001b[0m\u001b[0mweight\u001b[0m\u001b[1;33m.\u001b[0m\u001b[0mt\u001b[0m\u001b[1;33m(\u001b[0m\u001b[1;33m)\u001b[0m\u001b[1;33m)\u001b[0m\u001b[1;33m\u001b[0m\u001b[1;33m\u001b[0m\u001b[0m\n\u001b[0m\u001b[0;32m   1693\u001b[0m         \u001b[1;32mif\u001b[0m \u001b[0mbias\u001b[0m \u001b[1;32mis\u001b[0m \u001b[1;32mnot\u001b[0m \u001b[1;32mNone\u001b[0m\u001b[1;33m:\u001b[0m\u001b[1;33m\u001b[0m\u001b[1;33m\u001b[0m\u001b[0m\n\u001b[0;32m   1694\u001b[0m             \u001b[0moutput\u001b[0m \u001b[1;33m+=\u001b[0m \u001b[0mbias\u001b[0m\u001b[1;33m\u001b[0m\u001b[1;33m\u001b[0m\u001b[0m\n",
      "\u001b[1;31mRuntimeError\u001b[0m: mat1 and mat2 shapes cannot be multiplied (1x5 and 97x1)"
     ]
    }
   ],
   "source": [
    "fit(100, model, loss_fn, opt, train_dl)"
   ]
  },
  {
   "cell_type": "markdown",
   "metadata": {},
   "source": [
    "Let's generate predictions using our model and verify that they're close to our targets."
   ]
  },
  {
   "cell_type": "code",
   "execution_count": null,
   "metadata": {},
   "outputs": [],
   "source": [
    "# Generate predictions\n",
    "preds = model(inputs.float())\n",
    "preds"
   ]
  },
  {
   "cell_type": "code",
   "execution_count": null,
   "metadata": {},
   "outputs": [],
   "source": [
    "# Compare with targets\n",
    "targets"
   ]
  },
  {
   "cell_type": "markdown",
   "metadata": {},
   "source": [
    "Indeed, the predictions are quite close to our targets. We have a trained a reasonably good model to predict crop yields for apples and oranges by looking at the average temperature, rainfall, and humidity in a region. We can use it to make predictions of crop yields for new regions by passing a batch containing a single row of input."
   ]
  },
  {
   "cell_type": "markdown",
   "metadata": {},
   "source": [
    "The predicted yield of apples is 54.3 tons per hectare, and that of oranges is 68.3 tons per hectare."
   ]
  },
  {
   "cell_type": "markdown",
   "metadata": {},
   "source": [
    "## Machine Learning vs. Classical Programming\n",
    "\n",
    "The approach we've taken in this tutorial is very different from programming as you might know it. Usually, we write programs that take some inputs, perform some operations, and return a result. \n",
    "\n",
    "However, in this notebook, we've defined a \"model\" that assumes a specific relationship between the inputs and the outputs, expressed using some unknown parameters (weights & biases). We then show the model some know inputs and outputs and _train_ the model to come up with good values for the unknown parameters. Once trained, the model can be used to compute the outputs for new inputs.\n",
    "\n",
    "This paradigm of programming is known as _machine learning_, where we use data to figure out the relationship between inputs and outputs. _Deep learning_ is a branch of machine learning that uses matrix operations, non-linear activation functions and gradient descent to build and train models. Andrej Karpathy, the director of AI at Tesla Motors, has written a great blog post on this topics, titled [Software 2.0](https://medium.com/@karpathy/software-2-0-a64152b37c35).\n",
    "\n",
    "This picture from book [Deep Learning with Python](https://www.manning.com/books/deep-learning-with-python) by Francois Chollet captures the difference between classical programming and machine learning:\n",
    "\n",
    "![](https://i.imgur.com/oJEQe7k.png)\n",
    "\n",
    "Keep this picture in mind as you work through the next few tutorials. \n",
    "\n"
   ]
  },
  {
   "cell_type": "markdown",
   "metadata": {},
   "source": [
    "## Commit and update the notebook\n",
    "\n",
    "As a final step, we can record a new version of the notebook using the `jovian` library."
   ]
  },
  {
   "cell_type": "code",
   "execution_count": null,
   "metadata": {},
   "outputs": [],
   "source": [
    "import jovian"
   ]
  },
  {
   "cell_type": "code",
   "execution_count": null,
   "metadata": {},
   "outputs": [],
   "source": [
    "jovian.commit(project='02-linear-regression')"
   ]
  },
  {
   "cell_type": "markdown",
   "metadata": {},
   "source": [
    "Note that running `jovian.commit` a second time records a new version of your existing notebook. With Jovian.ml, you can avoid creating copies of your Jupyter notebooks and keep versions organized. Jovian also provides a visual diff ([example](https://jovian.ai/aakashns/keras-mnist-jovian/diff?base=8&remote=2)) so you can inspect what has changed between different versions:\n",
    "\n",
    "![jovian-commenting](https://i.imgur.com/HF1cOVt.png)"
   ]
  },
  {
   "cell_type": "markdown",
   "metadata": {},
   "source": [
    "## Exercises and Further Reading\n",
    "\n",
    "We've covered the following topics in this tutorial:\n",
    "\n",
    "- Introduction to linear regression and gradient descent\n",
    "- Implementing a linear regression model using PyTorch tensors\n",
    "- Training a linear regression model using the gradient descent algorithm\n",
    "- Implementing gradient descent and linear regression using PyTorch built-in\n",
    "\n",
    "\n",
    "Here are some resources for learning more about linear regression and gradient descent:\n",
    "\n",
    "* An visual & animated explanation of gradient descent: https://www.youtube.com/watch?v=IHZwWFHWa-w\n",
    "\n",
    "* For a more detailed explanation of derivates and gradient descent, see [these notes from a Udacity course](https://storage.googleapis.com/supplemental_media/udacityu/315142919/Gradient%20Descent.pdf). \n",
    "\n",
    "* For an animated visualization of how linear regression works, [see this post](https://hackernoon.com/visualizing-linear-regression-with-pytorch-9261f49edb09).\n",
    "\n",
    "* For a more mathematical treatment of matrix calculus, linear regression and gradient descent, you should check out [Andrew Ng's excellent course notes](https://github.com/Cleo-Stanford-CS/CS229_Notes/blob/master/lectures/cs229-notes1.pdf) from CS229 at Stanford University.\n",
    "\n",
    "* To practice and test your skills, you can participate in the [Boston Housing Price Prediction](https://www.kaggle.com/c/boston-housing) competition on Kaggle, a website that hosts data science competitions.\n",
    "\n",
    "With this, we complete our discussion of linear regression in PyTorch, and we’re ready to move on to the next topic: [Working with Images & Logistic Regression](https://jovian.ai/aakashns/03-logistic-regression)."
   ]
  },
  {
   "cell_type": "markdown",
   "metadata": {},
   "source": [
    "## Questions for Review\n",
    "\n",
    "Try answering the following questions to test your understanding of the topics covered in this notebook:\n",
    "\n",
    "1. What is a linear regression model? Give an example of a problem formulated as a linear regression model.\n",
    "2. What are input and target variables in a dataset? Give an example.\n",
    "3. What are weights and biases in a linear regression model?\n",
    "4. How do you represent tabular data using PyTorch tensors?\n",
    "5. Why do we create separate matrices for inputs and targets while training a linear regression model?\n",
    "6. How do you determine the shape of the weights matrix & bias vector given some training data?\n",
    "7. How do you create randomly initialized weights & biases with a given shape?\n",
    "8. How is a linear regression model implemented using matrix operations? Explain with an example.\n",
    "9. How do you generate predictions using a linear regression model?\n",
    "10. Why are the predictions of a randomly initialized model different from the actual targets?\n",
    "11. What is a loss function? What does the term “loss” signify?\n",
    "12. What is mean squared error?\n",
    "13. Write a function to calculate mean squared using model predictions and actual targets.\n",
    "14. What happens when you invoke the `.backward` function on the result of the mean squared error loss function?\n",
    "15. Why is the derivative of the loss w.r.t. the weights matrix itself a matrix? What do its elements represent?\n",
    "16. How is the derivate of the loss w.r.t. a weight element useful for reducing the loss? Explain with an example.\n",
    "17. Suppose the derivative  of the loss w.r.t. a weight element is positive. Should you increase or decrease the element’s value slightly to get a lower loss?\n",
    "18. Suppose the derivative  of the loss w.r.t. a weight element is negative. Should you increase or decrease the element’s value slightly to get a lower loss?\n",
    "19. How do you update the weights and biases of a model using their respective gradients to reduce the loss slightly?\n",
    "20. What is the gradient descent optimization algorithm? Why is it called “gradient descent”?\n",
    "21. Why do you subtract a “small quantity” proportional to the gradient from the weights & biases, not the actual gradient itself?\n",
    "22. What is learning rate? Why is it important?\n",
    "23. What is `torch.no_grad`?\n",
    "24. Why do you reset gradients to zero after updating weights and biases?\n",
    "25. What are the steps involved in training a linear regression model using gradient descent?\n",
    "26. What is an epoch?\n",
    "27. What is the benefit of training a model for multiple epochs?\n",
    "28. How do you make predictions using a trained model?\n",
    "29. What should you do if your model’s loss doesn’t decrease while training? Hint: learning rate.\n",
    "30. What is `torch.nn`?\n",
    "31. What is the purpose of the `TensorDataset` class in PyTorch? Give an example.\n",
    "32. What is a data loader in PyTorch? Give an example.\n",
    "33. How do you use a data loader to retrieve batches of data?\n",
    "34. What are the benefits of shuffling the training data before creating batches?\n",
    "35. What is the benefit of training in small batches instead of training with the entire dataset?\n",
    "36. What is the purpose of the `nn.Linear` class in PyTorch? Give an example.\n",
    "37. How do you see the weights and biases of a `nn.Linear` model?\n",
    "38. What is the purpose of the `torch.nn.functional` module?\n",
    "39. How do you compute mean squared error loss using a PyTorch built-in function?\n",
    "40. What is an optimizer in PyTorch?\n",
    "41. What is `torch.optim.SGD`? What does SGD stand for?\n",
    "42. What are the inputs to a PyTorch optimizer? \n",
    "43. Give an example of creating an optimizer for training a linear regression model.\n",
    "44. Write a function to train a `nn.Linear` model in batches using gradient descent.\n",
    "45. How do you use a linear regression model to make predictions on previously unseen data? ",
    "\n"
   ]
  }
 ],
 "metadata": {
  "kernelspec": {
   "display_name": "Python 3",
   "language": "python",
   "name": "python3"
  },
  "language_info": {
   "codemirror_mode": {
    "name": "ipython",
    "version": 3
   },
   "file_extension": ".py",
   "mimetype": "text/x-python",
   "name": "python",
   "nbconvert_exporter": "python",
   "pygments_lexer": "ipython3",
   "version": "3.7.4"
  }
 },
 "nbformat": 4,
 "nbformat_minor": 2
}
